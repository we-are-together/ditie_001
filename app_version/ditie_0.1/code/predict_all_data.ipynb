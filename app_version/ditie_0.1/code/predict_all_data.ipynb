{
 "cells": [
  {
   "cell_type": "code",
   "execution_count": 2,
   "metadata": {},
   "outputs": [
    {
     "name": "stderr",
     "output_type": "stream",
     "text": [
      "/home/nathan/.local/lib/python3.7/site-packages/sklearn/externals/joblib/__init__.py:15: FutureWarning: sklearn.externals.joblib is deprecated in 0.21 and will be removed in 0.23. Please import this functionality directly from joblib, which can be installed with: pip install joblib. If this warning is raised when loading pickled models, you may need to re-serialize those models with scikit-learn 0.21+.\n",
      "  warnings.warn(msg, category=FutureWarning)\n"
     ]
    }
   ],
   "source": [
    "#coding: urf-8\n",
    "import pandas as pd\n",
    "from tensorflow.keras.models import load_model\n",
    "from sklearn.externals import joblib\n",
    "from tool.tool import *\n"
   ]
  },
  {
   "cell_type": "code",
   "execution_count": 1,
   "metadata": {},
   "outputs": [],
   "source": [
    "import json\n",
    "import socket\n",
    "import sys\n",
    "def socket_service_data():\n",
    "    try:\n",
    "        s = socket.socket(socket.AF_INET, socket.SOCK_STREAM)\n",
    "        s.setsockopt(socket.SOL_SOCKET, socket.SO_REUSEADDR, 1)\n",
    "\n",
    "        s.bind(('localhost', 7777))  # 绑定要监听的端口\n",
    "        s.listen(5)  # 开始监听 表示可以使用五个链接排队\n",
    "        # s.bind(('127.0.0.1', 8880))  # 在同一台主机的ip下使用测试ip进行通信\n",
    "        # # s.bind(('192.168.20.1', 6666))  #在不同主机或者同一主机的不同系统下使用实际ip\n",
    "        # s.listen(10)\n",
    "    except socket.error as msg:\n",
    "        print(msg)\n",
    "        sys.exit(1)\n",
    "\n",
    "    print(\"Wait for Connection..................\")\n",
    "\n",
    "    while True:\n",
    "        sock, addr = s.accept()\n",
    "        buf = sock.recv(1024*30)  #接收数据\n",
    "        # buf = buf.decode()  #解码\n",
    "        buf = json.loads(buf.decode())\n",
    "        print(type(buf))\n",
    "        dict1 = {\"ItemName\": \"顶板梁混凝土\"}\n",
    "        for key in dict1:\n",
    "            print(key, dict1[key])\n",
    "        for data in buf:\n",
    "            damapping = buf[data]\n",
    "            damapping[0][key] = dict1[key]  # 添加字典中元素\n",
    "            print(damapping[0])\n",
    "        sock.send(json.dumps(buf, ensure_ascii=False).encode())\n",
    "        # print(\"The data from \" + str(addr[0]) + \" is \" + str(buf))\n",
    "        # print(\"Successfully\")\n",
    "        # return buf\n",
    "    sock.close()"
   ]
  },
  {
   "cell_type": "code",
   "execution_count": 4,
   "metadata": {},
   "outputs": [],
   "source": [
    "s = socket.socket(socket.AF_INET, socket.SOCK_STREAM)\n",
    "s.setsockopt(socket.SOL_SOCKET, socket.SO_REUSEADDR, 1)\n",
    "\n",
    "s.bind(('localhost', 7777))  # 绑定要监听的端口\n",
    "s.listen(5)  # 开始监听 表示可以使用五个链接排队"
   ]
  },
  {
   "cell_type": "code",
   "execution_count": null,
   "metadata": {},
   "outputs": [],
   "source": [
    "sock,addr = s.accept()"
   ]
  },
  {
   "cell_type": "code",
   "execution_count": null,
   "metadata": {},
   "outputs": [],
   "source": [
    "buf = sock.recv(1024*30)\n",
    "buf = json.loads(buf.decode())\n",
    "buf"
   ]
  },
  {
   "cell_type": "code",
   "execution_count": null,
   "metadata": {},
   "outputs": [],
   "source": [
    "import json\n",
    "import os\n",
    "import sys\n",
    "import socket\n",
    "\n",
    "data = {\n",
    "    \"Mapping\": [\n",
    "        {\n",
    "            \"ElementName\": \"900*600\",\n",
    "            \"FamilyName\": \"混凝土-矩形梁\",\n",
    "            \"CategoryName\": \"结构框架\",\n",
    "            \"Min\": {\n",
    "                \"X\": 1910.262302732,\n",
    "                \"Y\": 124.73735215342651,\n",
    "                \"Z\": -0.4757217847769028\n",
    "            },\n",
    "            \"Max\": {\n",
    "                \"X\": 1913.2150586375119,\n",
    "                \"Y\": 148.35939953175142,\n",
    "                \"Z\": 11.335301837270336\n",
    "            }\n",
    "        }\n",
    "    ]\n",
    "}\n",
    "\n",
    "def sock_client_data():\n",
    "    while True:\n",
    "        try:\n",
    "            s = socket.socket(socket.AF_INET, socket.SOCK_STREAM)\n",
    "            # s.connect(('192.168.20.1', 6666))  #服务器和客户端在不同的系统或不同的主机下时使用的ip和端口，首先要查看服务器所在的系统网卡的ip\n",
    "            # s.connect(('127.0.0.1', 8880))  # 服务器和客户端都在一个系统下时使用的ip和端口\n",
    "            s.connect(('localhost', 7777))  # 建立一个链接，连接到本地的6969端口\n",
    "        except socket.error as msg:\n",
    "            print(msg)\n",
    "            print(sys.exit(1))\n",
    "\n",
    "        # data = input(\"input data:\")  # 输入要传输的数据\n",
    "        s.send(json.dumps(data, ensure_ascii=False).encode())  # 将要传输的数据编码发送，如果是字符数据就必须要编码发送\n",
    "        # s.send()\n",
    "        data2 = s.recv(1024*30)  # 接收一个信息，并指定接收的大小 为1024字节\n",
    "        dataJson = json.loads(data2.decode())\n",
    "        print(dataJson)\n",
    "    s.close()\n",
    "\n",
    "\n",
    "if __name__ == '__main__':\n",
    "    sock_client_data()"
   ]
  },
  {
   "cell_type": "code",
   "execution_count": 8,
   "metadata": {},
   "outputs": [],
   "source": [
    "data = {\n",
    "    \"Mapping\": [\n",
    "        {\n",
    "            \"ElementName\": \"900*600\",\n",
    "            \"FamilyName\": \"混凝土-矩形梁\",\n",
    "            \"CategoryName\": \"结构框架\",\n",
    "            \"Min\": {\n",
    "                \"X\": 1910.262302732,\n",
    "                \"Y\": 124.73735215342651,\n",
    "                \"Z\": -0.4757217847769028\n",
    "            },\n",
    "            \"Max\": {\n",
    "                \"X\": 1913.2150586375119,\n",
    "                \"Y\": 148.35939953175142,\n",
    "                \"Z\": 11.335301837270336\n",
    "            }\n",
    "        }\n",
    "    ]\n",
    "}\n",
    "def exchange():\n",
    "        all_files = glob.glob(os.path.join(\"*.json\"))\n",
    "        for file in all_files:\n",
    "            with open('{}'.format(file), 'r', encoding='utf-8', errors='ignore') as f:\n",
    "               a = json.load(f)  # 此时a是一个字典对象\n",
    "               list1 = a['Mapping']\n",
    "            result=re.match('(.+)\\.json',file)\n",
    "            f=result.group(1)\n",
    "            csvFile = open(\"{}.csv\".format(f), 'w', newline='', encoding='utf-8')\n",
    "            writer = csv.writer(csvFile)\n",
    "            writer.writerow(('ElementName','FamilyName','CategoryName','ItemName','MinX','MinY','MinZ','MaxX','MaxY','MaxZ','Length','Depth','Height','Volume','Surface'))\n",
    "            for dict in list1:\n",
    "               ElementName = dict['ElementName']\n",
    "               FamilyName = dict['FamilyName']\n",
    "               CategoryName = dict['CategoryName']\n",
    "               ItemName = dict['ItemName']\n",
    "               MinX = dict['Min']['X']\n",
    "               MinY = dict['Min']['Y']\n",
    "               MinZ = dict['Min']['Z']\n",
    "               MaxX = dict['Max']['X']\n",
    "               MaxY = dict['Max']['Y']\n",
    "               MaxZ = dict['Max']['Z']\n",
    "               Length = MaxX - MinX\n",
    "               Depth = MaxY - MinY\n",
    "               Height = MaxZ - MinZ\n",
    "               Volume = Length * Depth * Height\n",
    "               Surface = (Length * Depth) * 2 + (Length * Height) * 2 + (Depth * Height) * 2\n",
    "#                writer.writerow((ElementName, FamilyName, CategoryName, ItemName, MinX, MinY"
   ]
  },
  {
   "cell_type": "code",
   "execution_count": 10,
   "metadata": {},
   "outputs": [
    {
     "data": {
      "text/plain": [
       "[{'ElementName': '900*600',\n",
       "  'FamilyName': '混凝土-矩形梁',\n",
       "  'CategoryName': '结构框架',\n",
       "  'Min': {'X': 1910.262302732,\n",
       "   'Y': 124.73735215342651,\n",
       "   'Z': -0.4757217847769028},\n",
       "  'Max': {'X': 1913.215058637512,\n",
       "   'Y': 148.35939953175142,\n",
       "   'Z': 11.335301837270336}}]"
      ]
     },
     "execution_count": 10,
     "metadata": {},
     "output_type": "execute_result"
    }
   ],
   "source": [
    "list1 = data['Mapping']\n",
    "list1"
   ]
  },
  {
   "cell_type": "code",
   "execution_count": 43,
   "metadata": {},
   "outputs": [
    {
     "name": "stdout",
     "output_type": "stream",
     "text": [
      "<class 'dict'>\n",
      "<class 'dict'>\n"
     ]
    }
   ],
   "source": [
    "for dict1 in list1:\n",
    "#     print(dict1)\n",
    "    for name in dict1:\n",
    "        if isinstance(dict1[name],dict):\n",
    "            for \n",
    "#             print(type(dict1[name]))\n"
   ]
  },
  {
   "cell_type": "code",
   "execution_count": null,
   "metadata": {},
   "outputs": [],
   "source": [
    "def json_to_csv(data_json):\n",
    "    for words in data_json:\n",
    "        if isinstance(data_json[words],dict):\n",
    "            json_to_csv(data_json)"
   ]
  }
 ],
 "metadata": {
  "kernelspec": {
   "display_name": "Python 3",
   "language": "python",
   "name": "python3"
  },
  "language_info": {
   "codemirror_mode": {
    "name": "ipython",
    "version": 3
   },
   "file_extension": ".py",
   "mimetype": "text/x-python",
   "name": "python",
   "nbconvert_exporter": "python",
   "pygments_lexer": "ipython3",
   "version": "3.7.4"
  }
 },
 "nbformat": 4,
 "nbformat_minor": 2
}
